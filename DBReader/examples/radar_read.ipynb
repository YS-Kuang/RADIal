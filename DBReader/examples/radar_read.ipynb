{
 "cells": [
  {
   "cell_type": "code",
   "execution_count": null,
   "id": "ce88ef16",
   "metadata": {},
   "outputs": [],
   "source": [
    "import pandas as pd\n",
    "import os.path as osp \n",
    "import numpy as np\n",
    "import matplotlib.pyplot as plt\n",
    "import os\n",
    "import h5py\n",
    "import json"
   ]
  },
  {
   "cell_type": "code",
   "execution_count": null,
   "id": "d6349920",
   "metadata": {},
   "outputs": [],
   "source": [
    "root_dir = \"E:\\hiwi\\RADIal\"\n",
    "save_file = \"E:\\hiwi\\data_procesing\"\n",
    "data_dir = \"E:\\\\hiwi\\\\RADIal\"\n",
    "pcl_dir = \"E:\\\\hiwi\\\\RADIal\\\\radar_PCL\"\n",
    "print(pcl_dir)\n",
    "labels = pd.read_csv(os.path.join(root_dir,'labels.csv')).to_numpy()"
   ]
  },
  {
   "cell_type": "code",
   "execution_count": null,
   "id": "ebe63ec5",
   "metadata": {},
   "outputs": [],
   "source": [
    "# Gather each input entries by their sample id\n",
    "unique_ids = np.unique(labels[:,0])\n",
    "label_dict = {}\n",
    "for i,ids in enumerate(unique_ids):\n",
    "    sample_ids = np.where(labels[:,0]==ids)[0]\n",
    "    label_dict[ids]=sample_ids\n",
    "sample_keys = list(label_dict.keys())"
   ]
  },
  {
   "cell_type": "code",
   "execution_count": null,
   "id": "325d6501",
   "metadata": {},
   "outputs": [],
   "source": [
    "index =np.argwhere(labels=='RECORD@2020-11-22_11.24.02')\n",
    "print(index)"
   ]
  },
  {
   "cell_type": "code",
   "execution_count": null,
   "id": "b33c8660",
   "metadata": {},
   "outputs": [],
   "source": [
    "#0,numsample 10,11,12,13 radar_R_m,radar_A_deg,radar_D_mps,radar_P_db \n",
    "\n",
    "#label_data = labels[:,[0,10,11,12,13]]\n",
    "#np.save(osp.join(save_file,'lable.npy'), label_data)\n",
    "labels = np.load(os.path.join(save_file,'lable.npy'),allow_pickle=True)\n",
    "print(labels.shape)\n",
    "\"\"\"\n",
    "eps = np.finfo(float).eps\n",
    "print(max(labels[:,4]))\n",
    "print(min(labels[:,4]))\n",
    "print(np.log10(max(labels[:,4])))\n",
    "print(np.log10(min(abs(labels[:,4]))))\n",
    "\"\"\"\n",
    "#RAD power\n",
    "print(labels[0,:])\n",
    "RANGE_Resolution = np.around((103/512),2)\n",
    "Azimuth_Resolution =np.around((180/751),1)\n",
    "print(Azimuth_Resolution)\n",
    "Doppler_index =6\n",
    "Range_index= 3\n",
    "Azimuth_index =8\n",
    "a=[1,2,3,4,5,6]\n",
    "print(a[1:4])"
   ]
  },
  {
   "cell_type": "code",
   "execution_count": null,
   "id": "f38a1981",
   "metadata": {},
   "outputs": [],
   "source": [
    "\"\"\"\n",
    "filename = os.path.join(root_dir,'radar_PCL','pcl_000018.npy')\n",
    "\n",
    "\n",
    "data = np.load(filename,allow_pickle=True)\n",
    "print(data.shape)\n",
    "# range\n",
    "#print(data[0,0])\n",
    "#azimuth\n",
    "#print(data[1,0])\n",
    "#elevation\n",
    "#print(data[2,0])\n",
    "#power\n",
    "#print(max(data[3,:]))\n",
    "#doppler\n",
    "#print(data[4,0])\n",
    "#x\n",
    "print(data[5,0:20])\n",
    "#y\n",
    "#print(max(data[6,:]))\n",
    "\n",
    "\"\"\""
   ]
  },
  {
   "cell_type": "code",
   "execution_count": null,
   "id": "928ec275",
   "metadata": {},
   "outputs": [],
   "source": [
    "number_sample = labels[:,0]\n",
    "#radar_name = os.path.join(self.root_dir,'radar_FFT',\"fft_{:06d}.npz\".format(sample_id))\n",
    "print(number_sample[0])\n",
    "radar_fft = os.path.join(root_dir,'radar_FFT',\"fft_{:06d}.npy\".format(number_sample[0]))\n",
    "print(radar_fft)"
   ]
  },
  {
   "cell_type": "code",
   "execution_count": null,
   "id": "93ae6a78",
   "metadata": {},
   "outputs": [],
   "source": [
    "def get_RA(RD_spectrums):\n",
    "\n",
    "    doppler_indexes = []\n",
    "    AoA_mat = np.load('CalibrationTable.npy',allow_pickle=True).item()\n",
    "    window = AoA_mat['H'][0]\n",
    "    numChirps = 256\n",
    "    numReducedDoppler = 16\n",
    "    numChirpsPerLoop = 16\n",
    "    CalibMat=AoA_mat['Signal'][...,5]\n",
    "    dividend_constant_arr = np.arange(0,numReducedDoppler*numChirpsPerLoop ,numReducedDoppler)\n",
    "    for doppler_bin in range(numChirps):\n",
    "        DopplerBinSeq = np.remainder(doppler_bin+ dividend_constant_arr,numChirps)\n",
    "        DopplerBinSeq = np.concatenate([[DopplerBinSeq[0]],DopplerBinSeq[5:]])\n",
    "        doppler_indexes.append(DopplerBinSeq)\n",
    "\n",
    "    MIMO_Spectrum = RD_spectrums[:,doppler_indexes,:].reshape(RD_spectrums.shape[0]*RD_spectrums.shape[1],-1)\n",
    "\n",
    "\n",
    "    # Multiply with Hamming window to reduce side lobes\n",
    "    MIMO_Spectrum = np.multiply(MIMO_Spectrum,window)\n",
    "\n",
    "    Azimuth_spec = np.abs(CalibMat@MIMO_Spectrum.transpose())\n",
    "    Azimuth_spec = Azimuth_spec.reshape(AoA_mat['Signal'].shape[0],RD_spectrums.shape[0],RD_spectrums.shape[1])\n",
    "    #(751, 512, 256) A,R,D\n",
    "    #RAD\n",
    "    #print(Azimuth_spec.shape)\n",
    "    Azimuth_spec = np.transpose(Azimuth_spec, (1, 0, 2))\n",
    "    #RA_map = np.sum(np.abs(Azimuth_spec),axis=2)\n",
    "    \n",
    "    return Azimuth_spec"
   ]
  },
  {
   "cell_type": "code",
   "execution_count": null,
   "id": "ce3140aa",
   "metadata": {},
   "outputs": [],
   "source": [
    "class RADIal():\n",
    "    \n",
    "    def __init__(self, root_dir,label_file):\n",
    "        self.root_dir = root_dir\n",
    "        self.label_file = label_file\n",
    "        self.labels = np.load(os.path.join(label_file,'lable.npy'),allow_pickle=True)\n",
    "    \n",
    "    def to_radar_cube(self):\n",
    "        number_sample = self.labels[:,0]\n",
    "        Range_fft = self.labels[:,1]\n",
    "        Azimuth_fft = self.labels[:,2]\n",
    "        Doppler_index = self.labels[:,3]\n",
    "        Range_Resolution = 103/512\n",
    "        Azimuth_Resolution =180/751\n",
    "        \n",
    "        for index in range(number_sample.shape[0]):\n",
    "            Range_fft = self.labels[index,1]\n",
    "            Azimuth_fft = self.labels[index,2]\n",
    "            Doppler_index = int(self.labels[index,3])\n",
    "            Range_index = int(Range_fft/Range_Resolution)\n",
    "            \n",
    "            Azimuth_index = int(Azimuth_fft+90/Azimuth_Resolution)\n",
    "                \n",
    "            \n",
    "            \n",
    "                \n",
    "            \n",
    "            #print(Doppler_index)\n",
    "            #print(Range_index)\n",
    "            #print(Azimuth_index)\n",
    "            #  Doppler_index <= 255-17\n",
    "            if Doppler_index >=15 and Doppler_index <= 238:\n",
    "                \n",
    "                radar_fft_path= os.path.join(self.root_dir,'radar_FFT',\"fft_{:06d}.npy\".format(number_sample[index]))\n",
    "                radar_fft = np.load(radar_fft_path,allow_pickle=True)\n",
    "                radar_fft = np.concatenate([radar_fft.real,radar_fft.imag],axis=2)\n",
    "                radar_fft = radar_fft[...,::2]+1j*radar_fft[...,1::2]\n",
    "                radar_cube = get_RA(radar_fft)\n",
    "                \n",
    "                radar_cube = radar_cube[Range_index-2:Range_index+3,Azimuth_index-2:Azimuth_index+3,Doppler_index-15:Doppler_index+17]\n",
    "                \n",
    "                \n",
    "                save_file = os.path.join(self.label_file,\"radar_cube_{:06d}.hdf5\".format(number_sample[index]))\n",
    "                f = h5py.File(save_file,'a')\n",
    "                d1 = f.create_dataset(str(index),data=radar_cube)\n",
    "            elif Doppler_index <15:\n",
    "                radar_fft_path= os.path.join(self.root_dir,'radar_FFT',\"fft_{:06d}.npy\".format(number_sample[index]))\n",
    "                radar_fft = np.load(radar_fft_path,allow_pickle=True)\n",
    "                radar_fft = np.concatenate([radar_fft.real,radar_fft.imag],axis=2)\n",
    "                radar_fft = radar_fft[...,::2]+1j*radar_fft[...,1::2]\n",
    "                radar_cube = get_RA(radar_fft)\n",
    "                \n",
    "                radar_cube_1 = radar_cube[Range_index-2:Range_index+3,Azimuth_index-2:Azimuth_index+3,Doppler_index-15:]\n",
    "                radar_cube_2 = radar_cube[Range_index-2:Range_index+3,Azimuth_index-2:Azimuth_index+3,0:Doppler_index+17]\n",
    "                radar_cube = np.concatenate((radar_cube_1, radar_cube_2), axis=2)\n",
    "                \n",
    "                save_file = os.path.join(self.label_file,\"radar_cube_{:06d}.hdf5\".format(number_sample[index]))\n",
    "                f = h5py.File(save_file,'a')\n",
    "                d1 = f.create_dataset(str(index),data=radar_cube)\n",
    "            else:\n",
    "                radar_fft_path= os.path.join(self.root_dir,'radar_FFT',\"fft_{:06d}.npy\".format(number_sample[index]))\n",
    "                radar_fft = np.load(radar_fft_path,allow_pickle=True)\n",
    "                radar_fft = np.concatenate([radar_fft.real,radar_fft.imag],axis=2)\n",
    "                radar_fft = radar_fft[...,::2]+1j*radar_fft[...,1::2]\n",
    "                radar_cube = get_RA(radar_fft)\n",
    "                \n",
    "                radar_cube_1 = radar_cube[Range_index-2:Range_index+3,Azimuth_index-2:Azimuth_index+3,Doppler_index-15:]\n",
    "                radar_cube_2 = radar_cube[Range_index-2:Range_index+3,Azimuth_index-2:Azimuth_index+3,0:17-(255-Doppler_index)]\n",
    "                radar_cube = np.concatenate((radar_cube_1, radar_cube_2), axis=2)\n",
    "                \n",
    "                save_file = os.path.join(self.label_file,\"radar_cube_{:06d}.hdf5\".format(number_sample[index]))\n",
    "                f = h5py.File(save_file,'a')\n",
    "                d1 = f.create_dataset(str(index),data=radar_cube)\n",
    "            \n",
    "            if index%10==0:\n",
    "                print(f.keys())\n",
    "                \n",
    "            if index%10==0:\n",
    "                print(index)\n",
    "            f.close()\n",
    "                \n",
    "\n",
    "                    \n",
    "                    \n",
    "                \n",
    "                \n",
    "            \n"
   ]
  },
  {
   "cell_type": "code",
   "execution_count": null,
   "id": "d71fd52d",
   "metadata": {},
   "outputs": [],
   "source": [
    "radar_data = RADIal(data_dir,save_file)\n",
    "radar_data.to_radar_cube()\n",
    "\n"
   ]
  },
  {
   "cell_type": "code",
   "execution_count": null,
   "id": "41438be0",
   "metadata": {},
   "outputs": [],
   "source": [
    "filename =os.path.join(save_file,\"radar_cube_000018.hdf5\")\n",
    "f2.close()\n",
    "f2 = h5py.File(filename,'r')\n",
    "print(f2[str(0)][:])\n",
    "for key in f2.keys():\n",
    "    print(key)\n",
    "#print(f2['0'].shape)\n",
    "f2.close()"
   ]
  },
  {
   "cell_type": "code",
   "execution_count": null,
   "id": "87327391",
   "metadata": {},
   "outputs": [],
   "source": [
    "filename = os.path.join(root_dir,'radar_PCL','pcl_000018.npy')\n",
    "data = np.load(filename,allow_pickle=True)[0:-4,:]\n",
    "radar_r_data =data[0,:]\n",
    "\n",
    "radar_a_data =data[1,:]\n",
    "eva = data[2,:]\n",
    "radar_p_data =data[3,:]\n",
    "radar_d_data =data[4,:]"
   ]
  },
  {
   "cell_type": "code",
   "execution_count": null,
   "id": "70b5e402",
   "metadata": {},
   "outputs": [],
   "source": [
    "#print(radar_d_data[10:20])\n",
    "#print(radar_p_data[0:10])\n",
    "#range 103m,Azimuth 108 ,\n",
    "print(radar_d_data.shape)\n",
    "print(max(radar_d_data))\n",
    "print(radar_r_data[470:480])\n",
    "print(radar_d_data[470:480])\n",
    "print(radar_a_data[470:480])"
   ]
  },
  {
   "cell_type": "code",
   "execution_count": null,
   "id": "f6c46539",
   "metadata": {},
   "outputs": [],
   "source": [
    "filename = os.path.join(root_dir,'radar_FFT','fft_000018.npy')\n",
    "fft_data = np.load(filename,allow_pickle=True)\n",
    "print(fft_data.shape)"
   ]
  },
  {
   "cell_type": "code",
   "execution_count": null,
   "id": "9180ca62",
   "metadata": {},
   "outputs": [],
   "source": [
    "radar_FFT = np.concatenate([fft_data.real,fft_data.imag],axis=2)\n",
    "print(radar_FFT.shape)"
   ]
  },
  {
   "cell_type": "code",
   "execution_count": null,
   "id": "f21ce570",
   "metadata": {},
   "outputs": [],
   "source": [
    "radar_FFT = radar_FFT[...,::2]+1j*radar_FFT[...,1::2]\n",
    "print(radar_FFT.shape)"
   ]
  },
  {
   "cell_type": "code",
   "execution_count": null,
   "id": "4b5c3439",
   "metadata": {},
   "outputs": [],
   "source": [
    "power_spectrum = np.sum(np.abs(radar_FFT),axis=2)\n",
    "print(power_spectrum.shape)"
   ]
  },
  {
   "cell_type": "code",
   "execution_count": null,
   "id": "6945079f",
   "metadata": {},
   "outputs": [],
   "source": [
    "plt.figure(figsize=(10,10))\n",
    "plt.imshow(np.log10(power_spectrum))"
   ]
  },
  {
   "cell_type": "code",
   "execution_count": null,
   "id": "e9d8eb59",
   "metadata": {},
   "outputs": [],
   "source": [
    "AoA_mat = np.load('CalibrationTable.npy',allow_pickle=True).item()\n",
    "window = AoA_mat['H'][0]\n",
    "numChirps = 256\n",
    "numReducedDoppler = 16\n",
    "numChirpsPerLoop = 16\n",
    "CalibMat=AoA_mat['Signal'][...,5]\n",
    "dividend_constant_arr = np.arange(0,numReducedDoppler*numChirpsPerLoop ,numReducedDoppler)"
   ]
  },
  {
   "cell_type": "code",
   "execution_count": null,
   "id": "feb3a37e",
   "metadata": {},
   "outputs": [],
   "source": [
    "def get_RA(RD_spectrums,window,numChirps,dividend_constant_arr,CalibMat):\n",
    "\n",
    "    doppler_indexes = []\n",
    "    for doppler_bin in range(numChirps):\n",
    "        DopplerBinSeq = np.remainder(doppler_bin+ dividend_constant_arr,numChirps)\n",
    "        DopplerBinSeq = np.concatenate([[DopplerBinSeq[0]],DopplerBinSeq[5:]])\n",
    "        doppler_indexes.append(DopplerBinSeq)\n",
    "\n",
    "    MIMO_Spectrum = RD_spectrums[:,doppler_indexes,:].reshape(RD_spectrums.shape[0]*RD_spectrums.shape[1],-1)\n",
    "\n",
    "\n",
    "    # Multiply with Hamming window to reduce side lobes\n",
    "    MIMO_Spectrum = np.multiply(MIMO_Spectrum,window)\n",
    "\n",
    "    Azimuth_spec = np.abs(CalibMat@MIMO_Spectrum.transpose())\n",
    "    Azimuth_spec = Azimuth_spec.reshape(AoA_mat['Signal'].shape[0],RD_spectrums.shape[0],RD_spectrums.shape[1])\n",
    "    #radar cube\n",
    "\n",
    "    #RA_map = np.sum(np.abs(Azimuth_spec),axis=2)\n",
    "    #(751, 512, 256) A,R,D\n",
    "    return Azimuth_spec"
   ]
  },
  {
   "cell_type": "code",
   "execution_count": null,
   "id": "8c08fe91",
   "metadata": {},
   "outputs": [],
   "source": [
    "ra = get_RA(radar_FFT,window,numChirps,dividend_constant_arr,CalibMat)\n",
    "\n",
    "\n"
   ]
  },
  {
   "cell_type": "code",
   "execution_count": null,
   "id": "44b73cef",
   "metadata": {},
   "outputs": [],
   "source": [
    "print(\"A,R,D\")\n",
    "print(ra.shape)\n",
    "#ra_rad 最终的radar cube RAD\n",
    "ra_rad = np.transpose(ra, (1, 0, 2))\n",
    "print(\"R,A,D\")\n",
    "print(ra_rad.shape)"
   ]
  },
  {
   "cell_type": "code",
   "execution_count": null,
   "id": "2f10a49a",
   "metadata": {},
   "outputs": [],
   "source": [
    "x = np.arange(28).reshape((2,2,7))\n",
    "print(x)\n",
    "x = np.transpose(x, (1, 0, 2))\n",
    "print(x)"
   ]
  },
  {
   "cell_type": "code",
   "execution_count": null,
   "id": "2f118959",
   "metadata": {},
   "outputs": [],
   "source": [
    "plt.imshow(20*np.log10(np.abs(ra)))"
   ]
  },
  {
   "cell_type": "code",
   "execution_count": null,
   "id": "70df7bc6",
   "metadata": {},
   "outputs": [],
   "source": []
  }
 ],
 "metadata": {
  "kernelspec": {
   "display_name": "torch_py",
   "language": "python",
   "name": "torch_py"
  },
  "language_info": {
   "codemirror_mode": {
    "name": "ipython",
    "version": 3
   },
   "file_extension": ".py",
   "mimetype": "text/x-python",
   "name": "python",
   "nbconvert_exporter": "python",
   "pygments_lexer": "ipython3",
   "version": "3.8.13"
  }
 },
 "nbformat": 4,
 "nbformat_minor": 5
}
